{
 "cells": [
  {
   "cell_type": "markdown",
   "metadata": {},
   "source": [
    "**Author : Shruti Gupta<br>Date : 09/02/2019<br>File Name: Shruti Gupta - Session 2 Introduction to the basics of Python programming Assignment - Week 2**"
   ]
  },
  {
   "cell_type": "markdown",
   "metadata": {},
   "source": [
    "**data set**"
   ]
  },
  {
   "cell_type": "code",
   "execution_count": 1,
   "metadata": {},
   "outputs": [],
   "source": [
    "#You are given the batting data of qualifier between MI and KKR in the form of a nested dictionary.\n",
    "\n",
    "qualifier_2 = {'KKR' : {'Chris Lynn': 4, \n",
    "                      'Sunil Narine': 10, \n",
    "                      'Gautam Gambhir (c)': 12, \n",
    "                      'Robin Uthappa (wk)': 1, \n",
    "                      'Ishank Jaggi': 28, \n",
    "                      'Colin Grandhomme': 0,\n",
    "                      'Suryakumar Yadav': 31,\n",
    "                      'Piyush Chawla': 2,\n",
    "                      'Nathan Coulter-Nile': 6,\n",
    "                      'Umesh Yadav': 2,\n",
    "                      'Ankit Rajpoot': 4,\n",
    "                      'Extra runs': 7,\n",
    "                      'Total batted': 10},\n",
    "                'MI': {'Lendl Simmons': 3,\n",
    "                      'Parthiv Patel (wk)': 14,\n",
    "                      'Ambati Rayudu': 6,\n",
    "                      'Rohit Sharma (c)': 26,\n",
    "                      'Krunal Pandya': 45,\n",
    "                      'Kieron Pollard': 9,\n",
    "                      'Extra runs': 8,\n",
    "                      'Total batted': 6}}\n",
    "\n"
   ]
  },
  {
   "cell_type": "markdown",
   "metadata": {},
   "source": [
    "**Question 1:**\n",
    "<br>Clean the data and delete any entry from the dictionary that would impact your finding the total score later \n"
   ]
  },
  {
   "cell_type": "code",
   "execution_count": 2,
   "metadata": {},
   "outputs": [],
   "source": [
    "#q1\n",
    "\n",
    "#deleting the unwwanted keys and values from the dictionary\n",
    "del qualifier_2[\"KKR\"][\"Total batted\"]\n",
    "del qualifier_2[\"MI\"][\"Total batted\"]\n"
   ]
  },
  {
   "cell_type": "markdown",
   "metadata": {},
   "source": [
    "**Question 2:**<br>\n",
    "Create 4 lists consisting of names and lastnames of players: kkr_name, kkr_lastname, mi_name, mi_last and delete any entries\n",
    "in the lists that don't reflect player names.\n",
    "They should look like: print(kkr_name) ['Chris', 'Sunil', 'Gautam'] etc."
   ]
  },
  {
   "cell_type": "code",
   "execution_count": 3,
   "metadata": {},
   "outputs": [
    {
     "name": "stdout",
     "output_type": "stream",
     "text": [
      "['Chris', 'Sunil', 'Gautam', 'Robin', 'Ishank', 'Colin', 'Suryakumar', 'Piyush', 'Nathan', 'Umesh', 'Ankit']\n",
      "['Lynn', 'Narine', 'Gambhir', 'Uthappa', 'Jaggi', 'Grandhomme', 'Yadav', 'Chawla', 'Coulter-Nile', 'Yadav', 'Rajpoot']\n",
      "['Lendl', 'Parthiv', 'Ambati', 'Rohit', 'Krunal', 'Kieron']\n",
      "['Simmons', 'Patel', 'Rayudu', 'Sharma', 'Pandya', 'Pollard']\n"
     ]
    }
   ],
   "source": [
    "#q2\n",
    "#creating 4 lists\n",
    "kkr_name = ['Chris','Sunil','Gautam','Robin','Ishank','Colin','Suryakumar','Piyush','Nathan','Umesh','Ankit']\n",
    "kkr_lastname = ['Lynn','Narine','Gambhir','Uthappa','Jaggi','Grandhomme','Yadav','Chawla','Coulter-Nile','Yadav','Rajpoot']\n",
    "mi_name = ['Lendl','Parthiv','Ambati','Rohit','Krunal','Kieron']\n",
    "mi_lastname = ['Simmons','Patel','Rayudu','Sharma','Pandya','Pollard']\n",
    "\n",
    "print(kkr_name)\n",
    "print(kkr_lastname)\n",
    "print(mi_name)\n",
    "print(mi_lastname)"
   ]
  },
  {
   "cell_type": "markdown",
   "metadata": {},
   "source": [
    "**Question 3:**<br>\n",
    "Write a function that takes dictionary and team as an argument and returns the total runs<br>\n",
    "Test case:<br>\n",
    "print(total_runs(qualifier_2, 'KKR')) should print 107"
   ]
  },
  {
   "cell_type": "code",
   "execution_count": 4,
   "metadata": {
    "scrolled": true
   },
   "outputs": [
    {
     "name": "stdout",
     "output_type": "stream",
     "text": [
      "107\n",
      "111\n"
     ]
    }
   ],
   "source": [
    "#q3\n",
    "\n",
    "#calculating the total runs\n",
    "def runs(qualifier_2, KKR):\n",
    "    for key,val in qualifier_2.items():\n",
    "        if key == KKR:\n",
    "            print(sum(val.values()))\n",
    "runs(qualifier_2,'KKR')\n",
    "runs(qualifier_2,'MI')"
   ]
  },
  {
   "cell_type": "markdown",
   "metadata": {},
   "source": [
    "**Question 4:**\n",
    "Write a function that takes dictionary and returns the name of the winning team.<br>\n",
    "Test case:<br>\n",
    "winner(qualifier_2) should print 'MI'"
   ]
  },
  {
   "cell_type": "code",
   "execution_count": 5,
   "metadata": {},
   "outputs": [
    {
     "name": "stdout",
     "output_type": "stream",
     "text": [
      "winner is MI\n"
     ]
    }
   ],
   "source": [
    "#q4\n",
    "\n",
    "def run(qualifier_2, KKR):\n",
    "    for key,val in qualifier_2.items():\n",
    "        if key == KKR:\n",
    "            return(sum(val.values()))\n",
    "def winner(qualifier_2):\n",
    "    kkr_runs = run(qualifier_2,'KKR')\n",
    "    mi_runs = run(qualifier_2,'MI')\n",
    "    if kkr_runs<mi_runs:\n",
    "        print (\"winner is MI\")\n",
    "    else:\n",
    "        print(\"Winner is KKR\")\n",
    "\n",
    "winner(qualifier_2)"
   ]
  },
  {
   "cell_type": "markdown",
   "metadata": {},
   "source": [
    "**Question 5:**<br>\n",
    "Write a function that returns the name of the team that gave maximum extra runs. \n",
    "<br>If the extra runs are same for both the teams, the function should print('Both team bowlers equally sloppy')\n",
    "<br>Test case:\n",
    "<br>print(sloppy_bowlers(qualifier_2)) should print 'MI'"
   ]
  },
  {
   "cell_type": "code",
   "execution_count": 6,
   "metadata": {},
   "outputs": [
    {
     "name": "stdout",
     "output_type": "stream",
     "text": [
      "MI\n"
     ]
    }
   ],
   "source": [
    "#q5\n",
    "\n",
    "def sloppy_bowlers(qualifier_2):\n",
    "    #checking which team has extra runs\n",
    "    if qualifier_2[\"KKR\"][\"Extra runs\"] < qualifier_2[\"MI\"][\"Extra runs\"]:\n",
    "        print (\"MI\")\n",
    "    else:\n",
    "        print(\"KKR\")\n",
    "\n",
    "sloppy_bowlers(qualifier_2)"
   ]
  },
  {
   "cell_type": "markdown",
   "metadata": {},
   "source": [
    "**Question 6:**\n",
    "<br>Given the list kkr_runs = [4, 10, 12, 1, 28, 0, 31, 2, 6, 2, 4], \n",
    "<br>print \"good job\" if the score is more than 30, \n",
    "<br>\"YOu can do better\" if the score is greater than 20 but less than 30,\n",
    "<br>\"Ok you did something\" if the score is more than 10 and less than or equal to 20,\n",
    "<br>\"Duck\" if its 0,\n",
    "<br>\"Come on!\" if its more than 0 and less than or equal to 10"
   ]
  },
  {
   "cell_type": "code",
   "execution_count": 7,
   "metadata": {},
   "outputs": [
    {
     "name": "stdout",
     "output_type": "stream",
     "text": [
      "Come on!\n",
      "Come on!\n",
      "Ok you did something\n",
      "Come on!\n",
      "You can do better\n",
      "Done\n",
      "good job\n",
      "Come on!\n",
      "Come on!\n",
      "Come on!\n",
      "Come on!\n"
     ]
    }
   ],
   "source": [
    "#q6\n",
    "\n",
    "#list\n",
    "kkr_runs = [4, 10, 12, 1, 28, 0, 31, 2, 6, 2, 4]\n",
    "\n",
    "#creating a for loop for checking values\n",
    "for score in kkr_runs:\n",
    "    if score>30:\n",
    "        print(\"good job\")\n",
    "    elif score>20 and score<30:\n",
    "        print(\"You can do better\")\n",
    "    elif score>10 and score<=20:\n",
    "        print(\"Ok you did something\")\n",
    "    elif score>0 and score<=10:\n",
    "        print(\"Come on!\")\n",
    "    else:\n",
    "        print(\"Done\")\n"
   ]
  },
  {
   "cell_type": "markdown",
   "metadata": {},
   "source": [
    "**Question 7:**\n",
    "<br>Ask the user to enter two numbers. Print all numbers between these two numbers, both numbers included. \n",
    "<br>The numbers could be in any order. Use while loop\n",
    "<br>If both the numbers are same, print \"duh\"."
   ]
  },
  {
   "cell_type": "code",
   "execution_count": 9,
   "metadata": {},
   "outputs": [
    {
     "name": "stdout",
     "output_type": "stream",
     "text": [
      "Enter a number5\n",
      "Enter another number5\n",
      "duh\n",
      "5\n"
     ]
    }
   ],
   "source": [
    "#q7\n",
    "\n",
    "num1=int(input(\"Enter a number\"))\n",
    "\n",
    "num2=int(input(\"Enter another number\"))\n",
    "\n",
    "if num1==num2:\n",
    "    print(\"duh\")\n",
    "\n",
    "while (num1<=num2):\n",
    "    print (num1)\n",
    "    num1+=1"
   ]
  },
  {
   "cell_type": "markdown",
   "metadata": {},
   "source": [
    "**Question 8:**\n",
    "<br>Generate a random number using following code\n",
    "<br>import random\n",
    "<br>random_number = random.randint( 0, 10)\n",
    "<br>Now keep asking the user to guess the number. If user's guess is more than the random number, print ('Go low'),\n",
    "<br>if user's guess is less than the random number, print ('Go high'),\n",
    "<br>when user makes the right guess, print ('Congratulations') and stop the loop"
   ]
  },
  {
   "cell_type": "code",
   "execution_count": 10,
   "metadata": {},
   "outputs": [
    {
     "name": "stdout",
     "output_type": "stream",
     "text": [
      "enter a number42\n",
      "Go low\n",
      "enter another number10\n",
      "Go low\n",
      "enter another number4\n",
      "Go low\n",
      "enter another number1\n"
     ]
    }
   ],
   "source": [
    "#q8\n",
    "\n",
    "import random \n",
    "random_number = random.randint( 0, 10) \n",
    "\n",
    "num = int(input(\"enter a number\"))\n",
    "for i in range(random_number):\n",
    "    if (num > random_number):\n",
    "        print(\"Go low\")\n",
    "    elif (num < random_number):\n",
    "        print(\"Go high\")\n",
    "    else:\n",
    "        print(\"Congratuation\")\n",
    "        break\n",
    "    num = int(input(\"enter another number\"))"
   ]
  },
  {
   "cell_type": "markdown",
   "metadata": {},
   "source": [
    "**Question 9:**\n",
    "<br>Given the list of kkr score, return another list kkr_unique with only unique runs (The list would have only a single instance of numbers 4 and 2)<br>\n",
    "kkr_runs = [4, 10, 12, 1, 28, 0, 31, 2, 6, 2, 4]"
   ]
  },
  {
   "cell_type": "code",
   "execution_count": 11,
   "metadata": {},
   "outputs": [
    {
     "name": "stdout",
     "output_type": "stream",
     "text": [
      "[4, 10, 12, 1, 28, 0, 31, 2, 6]\n"
     ]
    }
   ],
   "source": [
    "#q9\n",
    "kkr_unique = []\n",
    "for i in kkr_runs:\n",
    "    if i not in kkr_unique: \n",
    "            kkr_unique.append(i) \n",
    "# print list \n",
    "print(kkr_unique)"
   ]
  },
  {
   "cell_type": "markdown",
   "metadata": {},
   "source": [
    "**Question 10:**\n",
    "<br>Write your own sort functin called my_sort() that takes a list as an argument and returns the sorted list.\n",
    "<br>Test case:\n",
    "<br>my_sort([3, 14, 6, 26, 45, 9, 8]) should return [3, 6, 8, 9, 14, 26, 45]"
   ]
  },
  {
   "cell_type": "code",
   "execution_count": 12,
   "metadata": {},
   "outputs": [
    {
     "name": "stdout",
     "output_type": "stream",
     "text": [
      "[3, 6, 8, 9, 14, 26, 45]\n"
     ]
    }
   ],
   "source": [
    "#q10\n",
    "def my_sort(l):\n",
    "    newlist = []\n",
    "    while l:\n",
    "        mini = l[0]\n",
    "        for x in l:\n",
    "            if x < mini:\n",
    "                mini = x\n",
    "        newlist.append(mini)\n",
    "        l.remove(mini)\n",
    "    return newlist\n",
    "\n",
    "print(my_sort([3,14,6,26,45,9,8]))"
   ]
  },
  {
   "cell_type": "code",
   "execution_count": null,
   "metadata": {},
   "outputs": [],
   "source": []
  }
 ],
 "metadata": {
  "kernelspec": {
   "display_name": "Python 3",
   "language": "python",
   "name": "python3"
  },
  "language_info": {
   "codemirror_mode": {
    "name": "ipython",
    "version": 3
   },
   "file_extension": ".py",
   "mimetype": "text/x-python",
   "name": "python",
   "nbconvert_exporter": "python",
   "pygments_lexer": "ipython3",
   "version": "3.7.1"
  }
 },
 "nbformat": 4,
 "nbformat_minor": 2
}
