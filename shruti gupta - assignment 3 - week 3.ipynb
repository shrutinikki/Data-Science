{
 "cells": [
  {
   "cell_type": "markdown",
   "metadata": {},
   "source": [
    "Author: Shruti Gupta<br>\n",
    "File Name: shruti gupta - assignment 3 - week 3<br>\n",
    "Date: 16/03/2019"
   ]
  },
  {
   "cell_type": "code",
   "execution_count": 1,
   "metadata": {},
   "outputs": [],
   "source": [
    "import numpy as np"
   ]
  },
  {
   "cell_type": "markdown",
   "metadata": {},
   "source": [
    "***Question 1***<br>\n",
    "1.Create a rank 2 numpy array of random integers and print:<br>\n",
    "    a) shape,size and dimensions of the array <br>\n",
    "    b) number of odd and even<br>\n",
    "integers in the array"
   ]
  },
  {
   "cell_type": "code",
   "execution_count": 2,
   "metadata": {},
   "outputs": [
    {
     "data": {
      "text/plain": [
       "array([[13, 22, 34],\n",
       "       [42, 54, 62],\n",
       "       [71, 28, 19],\n",
       "       [14, 13, 12]])"
      ]
     },
     "execution_count": 2,
     "metadata": {},
     "output_type": "execute_result"
    }
   ],
   "source": [
    "#Q1\n",
    "#creating a rank 2 array\n",
    "arr = np.array([[13,22,34], [42,54,62], [71,28,19], [14,13,12]])\n",
    "arr"
   ]
  },
  {
   "cell_type": "code",
   "execution_count": 3,
   "metadata": {},
   "outputs": [
    {
     "data": {
      "text/plain": [
       "2"
      ]
     },
     "execution_count": 3,
     "metadata": {},
     "output_type": "execute_result"
    }
   ],
   "source": [
    "#array dimension\n",
    "arr.ndim"
   ]
  },
  {
   "cell_type": "code",
   "execution_count": 4,
   "metadata": {},
   "outputs": [
    {
     "data": {
      "text/plain": [
       "(4, 3)"
      ]
     },
     "execution_count": 4,
     "metadata": {},
     "output_type": "execute_result"
    }
   ],
   "source": [
    "#array shape\n",
    "arr.shape"
   ]
  },
  {
   "cell_type": "code",
   "execution_count": 5,
   "metadata": {},
   "outputs": [
    {
     "data": {
      "text/plain": [
       "12"
      ]
     },
     "execution_count": 5,
     "metadata": {},
     "output_type": "execute_result"
    }
   ],
   "source": [
    "#array size\n",
    "arr.size"
   ]
  },
  {
   "cell_type": "code",
   "execution_count": 22,
   "metadata": {},
   "outputs": [
    {
     "name": "stdout",
     "output_type": "stream",
     "text": [
      "the number of odds in the array are:  4\n",
      "the number of evens in the array are:  8\n"
     ]
    }
   ],
   "source": [
    "#number of odds and even in the array\n",
    "oddnum=0\n",
    "evennum=0\n",
    "for i in range(0,4):\n",
    "    for j in range(0,3):\n",
    "        if arr[i][j]%2==0:\n",
    "            evennum+=1\n",
    "        else:\n",
    "            oddnum+=1\n",
    "print(\"the number of odds in the array are: \",oddnum)\n",
    "print(\"the number of evens in the array are: \",evennum)"
   ]
  },
  {
   "cell_type": "markdown",
   "metadata": {},
   "source": [
    "***Question 2***<br>\n",
    "2.Create a (3X3) numpy array with values ranging from 1 to 9."
   ]
  },
  {
   "cell_type": "code",
   "execution_count": 29,
   "metadata": {},
   "outputs": [
    {
     "data": {
      "text/plain": [
       "array([[1, 2, 3],\n",
       "       [4, 5, 6],\n",
       "       [7, 8, 9]])"
      ]
     },
     "execution_count": 29,
     "metadata": {},
     "output_type": "execute_result"
    }
   ],
   "source": [
    "#q2\n",
    "#creating a (3X3) numpay array\n",
    "arr2 = np.array([[1,2,3], [4,5,6], [7,8,9]])\n",
    "arr2"
   ]
  },
  {
   "cell_type": "markdown",
   "metadata": {},
   "source": [
    "***Question 3***<br>\n",
    "3.Create a (5X5) random numpy array and print the numbers from the array which are greater than average value of the array.\n",
    "<br>Hint: Use np.where() function"
   ]
  },
  {
   "cell_type": "code",
   "execution_count": 51,
   "metadata": {},
   "outputs": [
    {
     "data": {
      "text/plain": [
       "array([[19. ,  8. ,  9. ,  7.4, 17. ],\n",
       "       [10.4, 13. , 14. , 19. , 18. ],\n",
       "       [15. ,  6.8,  9. ,  7.4, 11.6],\n",
       "       [16. ,  6.8, 18. ,  7.4, 11.6],\n",
       "       [10.4,  6.8,  9. ,  7.4, 11.6]])"
      ]
     },
     "execution_count": 51,
     "metadata": {},
     "output_type": "execute_result"
    }
   ],
   "source": [
    "#q3\n",
    "#creating a (5X5) random array\n",
    "arr3 = np.random.randint(20,size=(5,5))\n",
    "arr3\n",
    "np.where(arr3>arr3.mean(axis = 0),arr3,arr3.mean(axis = 0))"
   ]
  },
  {
   "cell_type": "markdown",
   "metadata": {},
   "source": [
    "***Question 4***<br>\n",
    "4.Given an array of random integers:<br>\n",
    "arr1 = np.random.randint(50,size=(10,10))<br>\n",
    "Find out : <br>\n",
    "a) row wise and column wise mean <br>\n",
    "b) row wise and column wise max and min values <br>\n",
    "c) Variance and Standard Deviation of the array."
   ]
  },
  {
   "cell_type": "code",
   "execution_count": 67,
   "metadata": {},
   "outputs": [
    {
     "data": {
      "text/plain": [
       "array([[ 1, 39, 16, 46,  6, 34, 43, 46, 46, 44],\n",
       "       [33, 20, 29, 16, 18, 49,  5, 31, 21, 46],\n",
       "       [32, 25, 32, 21, 34, 24, 30, 23, 35, 44],\n",
       "       [44, 37, 44, 45, 41, 46, 12,  8,  0,  7],\n",
       "       [ 6, 27, 40, 12, 12, 33, 34, 28, 28, 46],\n",
       "       [29, 35,  4, 15, 26, 38, 22, 30, 22, 32],\n",
       "       [ 3, 19, 12, 15,  4, 16,  4,  5, 12, 42],\n",
       "       [20, 16, 14, 44, 37, 19,  9, 36, 16, 33],\n",
       "       [13,  2,  8, 49, 36, 24,  6, 39, 10, 46],\n",
       "       [13, 25,  2, 48, 16, 42, 18,  4,  7, 34]])"
      ]
     },
     "execution_count": 67,
     "metadata": {},
     "output_type": "execute_result"
    }
   ],
   "source": [
    "arr1 = np.random.randint(50,size=(10,10))\n",
    "arr1"
   ]
  },
  {
   "cell_type": "code",
   "execution_count": 68,
   "metadata": {},
   "outputs": [
    {
     "data": {
      "text/plain": [
       "array([19.4, 24.5, 20.1, 31.1, 23. , 32.5, 18.3, 25. , 19.7, 37.4])"
      ]
     },
     "execution_count": 68,
     "metadata": {},
     "output_type": "execute_result"
    }
   ],
   "source": [
    "arr1.mean(axis=0) #row wise mean"
   ]
  },
  {
   "cell_type": "code",
   "execution_count": 69,
   "metadata": {},
   "outputs": [
    {
     "data": {
      "text/plain": [
       "array([32.1, 26.8, 30. , 28.4, 26.6, 25.3, 13.2, 24.4, 23.3, 20.9])"
      ]
     },
     "execution_count": 69,
     "metadata": {},
     "output_type": "execute_result"
    }
   ],
   "source": [
    "arr1.mean(axis=1) #column wise mean"
   ]
  },
  {
   "cell_type": "code",
   "execution_count": 71,
   "metadata": {},
   "outputs": [
    {
     "name": "stdout",
     "output_type": "stream",
     "text": [
      "[44 39 44 49 41 49 43 46 46 46]   [ 1  2  2 12  4 16  4  4  0  7]\n"
     ]
    }
   ],
   "source": [
    "#min and max row wise\n",
    "arrmax = np.amax(arr1,axis=0) \n",
    "arrmin = np.amin(arr1,axis=0)\n",
    "print(arrmax,\" \",arrmin)"
   ]
  },
  {
   "cell_type": "code",
   "execution_count": 72,
   "metadata": {},
   "outputs": [
    {
     "name": "stdout",
     "output_type": "stream",
     "text": [
      "[46 49 44 46 46 38 42 44 49 48]   [ 1  5 21  0  6  4  3  9  2  2]\n"
     ]
    }
   ],
   "source": [
    "#min and max column wise\n",
    "arrmax = np.amax(arr1,axis=1) \n",
    "arrmin = np.amin(arr1,axis=1)\n",
    "print(arrmax,\" \",arrmin)"
   ]
  },
  {
   "cell_type": "markdown",
   "metadata": {},
   "source": [
    "***Question 5***<br>\n",
    "5.Given two matrices:<br>\n",
    "arr1 = np.matrix([[4,5],[7,3]])<br>\n",
    "arr2 = np.matrix([[2,3],[8,9]])<br>\n",
    "\n",
    "Find out the matrix multiplication of the above two matrices without using numpy function and then verify your answer using np.dot(arr1,arr2) function"
   ]
  },
  {
   "cell_type": "code",
   "execution_count": 75,
   "metadata": {},
   "outputs": [
    {
     "name": "stdout",
     "output_type": "stream",
     "text": [
      "[[4 5]\n",
      " [7 3]] \n",
      " [[2 3]\n",
      " [8 9]]\n"
     ]
    }
   ],
   "source": [
    "#q5\n",
    "#creating the matrix\n",
    "arr1 = np.matrix([[4,5],[7,3]])\n",
    "arr2 = np.matrix([[2,3],[8,9]])\n",
    "print(arr1,\"\\n\",arr2)"
   ]
  },
  {
   "cell_type": "code",
   "execution_count": 76,
   "metadata": {},
   "outputs": [
    {
     "data": {
      "text/plain": [
       "matrix([[48, 57],\n",
       "        [38, 48]])"
      ]
     },
     "execution_count": 76,
     "metadata": {},
     "output_type": "execute_result"
    }
   ],
   "source": [
    "#the multiplication without the numpy function\n",
    "arr1 * arr2"
   ]
  },
  {
   "cell_type": "code",
   "execution_count": 77,
   "metadata": {},
   "outputs": [
    {
     "data": {
      "text/plain": [
       "matrix([[48, 57],\n",
       "        [38, 48]])"
      ]
     },
     "execution_count": 77,
     "metadata": {},
     "output_type": "execute_result"
    }
   ],
   "source": [
    "#confirming the values\n",
    "np.dot(arr1,arr2)"
   ]
  }
 ],
 "metadata": {
  "kernelspec": {
   "display_name": "Python 3",
   "language": "python",
   "name": "python3"
  },
  "language_info": {
   "codemirror_mode": {
    "name": "ipython",
    "version": 3
   },
   "file_extension": ".py",
   "mimetype": "text/x-python",
   "name": "python",
   "nbconvert_exporter": "python",
   "pygments_lexer": "ipython3",
   "version": "3.7.1"
  }
 },
 "nbformat": 4,
 "nbformat_minor": 2
}
